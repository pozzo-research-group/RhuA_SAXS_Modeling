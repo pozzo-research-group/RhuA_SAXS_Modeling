{
 "cells": [
  {
   "cell_type": "markdown",
   "id": "367b39a2",
   "metadata": {},
   "source": [
    "This notebook is used to simulate the SAXS scattering curves from models containing 3d cartesian coordinates. The models are the tube-like assemblies of the RhuA protein that was made in the previous notebook. This notebook requires the Model2SAS (https://github.com/molybd/Model2SAS) library that uses the spherical harmonics method to simulate the scattering curves."
   ]
  },
  {
   "cell_type": "code",
   "execution_count": null,
   "id": "d0798957",
   "metadata": {},
   "outputs": [],
   "source": [
    "import numpy as np\n",
    "import pandas as pd\n",
    "import Model2SAS as mod\n",
    "import os"
   ]
  },
  {
   "cell_type": "code",
   "execution_count": null,
   "id": "2b807809",
   "metadata": {},
   "outputs": [],
   "source": [
    "path = '../Data/RhuA_Tubes_Coordinates/'\n",
    "filename = 'RhuA_82_Assembly_25_70OD_60ID_1200long.npy'\n",
    "filename_full = path + filename\n",
    "m = mod.model2sas('project name')\n",
    "data_ = np.load(filename_full)\n",
    "m.model.points_with_sld = data_\n",
    "m.setupData()\n",
    "m.calcSas(0.0001, 0.2)\n",
    "saxs_data = np.hstack((m.q.reshape(-1,1), m.I.reshape(-1,1)))\n",
    "#np.save('Data_SAXS/SAXS_'+ filename, saxs_data)"
   ]
  }
 ],
 "metadata": {
  "kernelspec": {
   "display_name": "Python (elastic_kmeans)",
   "language": "python",
   "name": "elastic_kmeans"
  },
  "language_info": {
   "codemirror_mode": {
    "name": "ipython",
    "version": 3
   },
   "file_extension": ".py",
   "mimetype": "text/x-python",
   "name": "python",
   "nbconvert_exporter": "python",
   "pygments_lexer": "ipython3",
   "version": "3.8.16"
  }
 },
 "nbformat": 4,
 "nbformat_minor": 5
}
